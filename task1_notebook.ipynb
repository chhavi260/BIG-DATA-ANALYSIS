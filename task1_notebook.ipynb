{
  "nbformat": 4,
  "nbformat_minor": 0,
  "metadata": {
    "colab": {
      "provenance": []
    },
    "kernelspec": {
      "name": "python3",
      "display_name": "Python 3"
    },
    "language_info": {
      "name": "python"
    }
  },
  "cells": [
    {
      "cell_type": "code",
      "execution_count": 1,
      "metadata": {
        "colab": {
          "base_uri": "https://localhost:8080/"
        },
        "id": "FDZQmXng4apK",
        "outputId": "c4bac4d4-8654-47e6-aa3f-2c0e86cf6093"
      },
      "outputs": [
        {
          "output_type": "stream",
          "name": "stdout",
          "text": [
            "Requirement already satisfied: pyspark in /usr/local/lib/python3.11/dist-packages (3.5.1)\n",
            "Requirement already satisfied: py4j==0.10.9.7 in /usr/local/lib/python3.11/dist-packages (from pyspark) (0.10.9.7)\n"
          ]
        }
      ],
      "source": [
        "# Install pyspark (only needed the first time)\n",
        "!pip install pyspark\n"
      ]
    },
    {
      "cell_type": "code",
      "source": [
        "from pyspark.sql import SparkSession\n",
        "\n",
        "# Create a Spark session\n",
        "spark = SparkSession.builder.appName(\"BigDataAnalysis\").getOrCreate()\n",
        "\n",
        "# Check if Spark is working\n",
        "spark\n"
      ],
      "metadata": {
        "colab": {
          "base_uri": "https://localhost:8080/",
          "height": 219
        },
        "id": "tokHvaUL4yoa",
        "outputId": "f3bb82da-e06b-4351-fcd1-3b5c215bf8aa"
      },
      "execution_count": 2,
      "outputs": [
        {
          "output_type": "execute_result",
          "data": {
            "text/plain": [
              "<pyspark.sql.session.SparkSession at 0x7f5128762a10>"
            ],
            "text/html": [
              "\n",
              "            <div>\n",
              "                <p><b>SparkSession - in-memory</b></p>\n",
              "                \n",
              "        <div>\n",
              "            <p><b>SparkContext</b></p>\n",
              "\n",
              "            <p><a href=\"http://83c91d95ce2e:4040\">Spark UI</a></p>\n",
              "\n",
              "            <dl>\n",
              "              <dt>Version</dt>\n",
              "                <dd><code>v3.5.1</code></dd>\n",
              "              <dt>Master</dt>\n",
              "                <dd><code>local[*]</code></dd>\n",
              "              <dt>AppName</dt>\n",
              "                <dd><code>BigDataAnalysis</code></dd>\n",
              "            </dl>\n",
              "        </div>\n",
              "        \n",
              "            </div>\n",
              "        "
            ]
          },
          "metadata": {},
          "execution_count": 2
        }
      ]
    },
    {
      "cell_type": "code",
      "source": [
        "from google.colab import files\n",
        "uploaded = files.upload()\n",
        "\n"
      ],
      "metadata": {
        "colab": {
          "base_uri": "https://localhost:8080/",
          "height": 73
        },
        "id": "GMcdr5nl5LwD",
        "outputId": "7bede75c-be3e-4770-f262-5349fdc0b82a"
      },
      "execution_count": 4,
      "outputs": [
        {
          "output_type": "display_data",
          "data": {
            "text/plain": [
              "<IPython.core.display.HTML object>"
            ],
            "text/html": [
              "\n",
              "     <input type=\"file\" id=\"files-ad5c0593-8591-436e-9428-131a3f884981\" name=\"files[]\" multiple disabled\n",
              "        style=\"border:none\" />\n",
              "     <output id=\"result-ad5c0593-8591-436e-9428-131a3f884981\">\n",
              "      Upload widget is only available when the cell has been executed in the\n",
              "      current browser session. Please rerun this cell to enable.\n",
              "      </output>\n",
              "      <script>// Copyright 2017 Google LLC\n",
              "//\n",
              "// Licensed under the Apache License, Version 2.0 (the \"License\");\n",
              "// you may not use this file except in compliance with the License.\n",
              "// You may obtain a copy of the License at\n",
              "//\n",
              "//      http://www.apache.org/licenses/LICENSE-2.0\n",
              "//\n",
              "// Unless required by applicable law or agreed to in writing, software\n",
              "// distributed under the License is distributed on an \"AS IS\" BASIS,\n",
              "// WITHOUT WARRANTIES OR CONDITIONS OF ANY KIND, either express or implied.\n",
              "// See the License for the specific language governing permissions and\n",
              "// limitations under the License.\n",
              "\n",
              "/**\n",
              " * @fileoverview Helpers for google.colab Python module.\n",
              " */\n",
              "(function(scope) {\n",
              "function span(text, styleAttributes = {}) {\n",
              "  const element = document.createElement('span');\n",
              "  element.textContent = text;\n",
              "  for (const key of Object.keys(styleAttributes)) {\n",
              "    element.style[key] = styleAttributes[key];\n",
              "  }\n",
              "  return element;\n",
              "}\n",
              "\n",
              "// Max number of bytes which will be uploaded at a time.\n",
              "const MAX_PAYLOAD_SIZE = 100 * 1024;\n",
              "\n",
              "function _uploadFiles(inputId, outputId) {\n",
              "  const steps = uploadFilesStep(inputId, outputId);\n",
              "  const outputElement = document.getElementById(outputId);\n",
              "  // Cache steps on the outputElement to make it available for the next call\n",
              "  // to uploadFilesContinue from Python.\n",
              "  outputElement.steps = steps;\n",
              "\n",
              "  return _uploadFilesContinue(outputId);\n",
              "}\n",
              "\n",
              "// This is roughly an async generator (not supported in the browser yet),\n",
              "// where there are multiple asynchronous steps and the Python side is going\n",
              "// to poll for completion of each step.\n",
              "// This uses a Promise to block the python side on completion of each step,\n",
              "// then passes the result of the previous step as the input to the next step.\n",
              "function _uploadFilesContinue(outputId) {\n",
              "  const outputElement = document.getElementById(outputId);\n",
              "  const steps = outputElement.steps;\n",
              "\n",
              "  const next = steps.next(outputElement.lastPromiseValue);\n",
              "  return Promise.resolve(next.value.promise).then((value) => {\n",
              "    // Cache the last promise value to make it available to the next\n",
              "    // step of the generator.\n",
              "    outputElement.lastPromiseValue = value;\n",
              "    return next.value.response;\n",
              "  });\n",
              "}\n",
              "\n",
              "/**\n",
              " * Generator function which is called between each async step of the upload\n",
              " * process.\n",
              " * @param {string} inputId Element ID of the input file picker element.\n",
              " * @param {string} outputId Element ID of the output display.\n",
              " * @return {!Iterable<!Object>} Iterable of next steps.\n",
              " */\n",
              "function* uploadFilesStep(inputId, outputId) {\n",
              "  const inputElement = document.getElementById(inputId);\n",
              "  inputElement.disabled = false;\n",
              "\n",
              "  const outputElement = document.getElementById(outputId);\n",
              "  outputElement.innerHTML = '';\n",
              "\n",
              "  const pickedPromise = new Promise((resolve) => {\n",
              "    inputElement.addEventListener('change', (e) => {\n",
              "      resolve(e.target.files);\n",
              "    });\n",
              "  });\n",
              "\n",
              "  const cancel = document.createElement('button');\n",
              "  inputElement.parentElement.appendChild(cancel);\n",
              "  cancel.textContent = 'Cancel upload';\n",
              "  const cancelPromise = new Promise((resolve) => {\n",
              "    cancel.onclick = () => {\n",
              "      resolve(null);\n",
              "    };\n",
              "  });\n",
              "\n",
              "  // Wait for the user to pick the files.\n",
              "  const files = yield {\n",
              "    promise: Promise.race([pickedPromise, cancelPromise]),\n",
              "    response: {\n",
              "      action: 'starting',\n",
              "    }\n",
              "  };\n",
              "\n",
              "  cancel.remove();\n",
              "\n",
              "  // Disable the input element since further picks are not allowed.\n",
              "  inputElement.disabled = true;\n",
              "\n",
              "  if (!files) {\n",
              "    return {\n",
              "      response: {\n",
              "        action: 'complete',\n",
              "      }\n",
              "    };\n",
              "  }\n",
              "\n",
              "  for (const file of files) {\n",
              "    const li = document.createElement('li');\n",
              "    li.append(span(file.name, {fontWeight: 'bold'}));\n",
              "    li.append(span(\n",
              "        `(${file.type || 'n/a'}) - ${file.size} bytes, ` +\n",
              "        `last modified: ${\n",
              "            file.lastModifiedDate ? file.lastModifiedDate.toLocaleDateString() :\n",
              "                                    'n/a'} - `));\n",
              "    const percent = span('0% done');\n",
              "    li.appendChild(percent);\n",
              "\n",
              "    outputElement.appendChild(li);\n",
              "\n",
              "    const fileDataPromise = new Promise((resolve) => {\n",
              "      const reader = new FileReader();\n",
              "      reader.onload = (e) => {\n",
              "        resolve(e.target.result);\n",
              "      };\n",
              "      reader.readAsArrayBuffer(file);\n",
              "    });\n",
              "    // Wait for the data to be ready.\n",
              "    let fileData = yield {\n",
              "      promise: fileDataPromise,\n",
              "      response: {\n",
              "        action: 'continue',\n",
              "      }\n",
              "    };\n",
              "\n",
              "    // Use a chunked sending to avoid message size limits. See b/62115660.\n",
              "    let position = 0;\n",
              "    do {\n",
              "      const length = Math.min(fileData.byteLength - position, MAX_PAYLOAD_SIZE);\n",
              "      const chunk = new Uint8Array(fileData, position, length);\n",
              "      position += length;\n",
              "\n",
              "      const base64 = btoa(String.fromCharCode.apply(null, chunk));\n",
              "      yield {\n",
              "        response: {\n",
              "          action: 'append',\n",
              "          file: file.name,\n",
              "          data: base64,\n",
              "        },\n",
              "      };\n",
              "\n",
              "      let percentDone = fileData.byteLength === 0 ?\n",
              "          100 :\n",
              "          Math.round((position / fileData.byteLength) * 100);\n",
              "      percent.textContent = `${percentDone}% done`;\n",
              "\n",
              "    } while (position < fileData.byteLength);\n",
              "  }\n",
              "\n",
              "  // All done.\n",
              "  yield {\n",
              "    response: {\n",
              "      action: 'complete',\n",
              "    }\n",
              "  };\n",
              "}\n",
              "\n",
              "scope.google = scope.google || {};\n",
              "scope.google.colab = scope.google.colab || {};\n",
              "scope.google.colab._files = {\n",
              "  _uploadFiles,\n",
              "  _uploadFilesContinue,\n",
              "};\n",
              "})(self);\n",
              "</script> "
            ]
          },
          "metadata": {}
        },
        {
          "output_type": "stream",
          "name": "stdout",
          "text": [
            "Saving CarData.csv to CarData.csv\n"
          ]
        }
      ]
    },
    {
      "cell_type": "code",
      "source": [
        "## Load CarData.csv into a PySpark DataFrame\n",
        "car_df = spark.read.option(\"header\", True).option(\"inferSchema\", True).csv(\"CarData.csv\")\n",
        "\n",
        "# Show the first few rows using PySpark (console-style)\n",
        "car_df.show()\n",
        "\n",
        "# Convert only the first 10 rows to Pandas for better display\n",
        "car_df.limit(10).toPandas()\n"
      ],
      "metadata": {
        "colab": {
          "base_uri": "https://localhost:8080/",
          "height": 1000
        },
        "id": "jK2yythq7jn5",
        "outputId": "168cf414-9711-4506-a8ba-4302d8d1d11b"
      },
      "execution_count": 11,
      "outputs": [
        {
          "output_type": "stream",
          "name": "stdout",
          "text": [
            "+----+----------+----+--------------------+---------+----------------+-----------------+-----------------+---------------+--------------------+------------+-------------+-----------+--------+----------+-----+\n",
            "|Make|     Model|Year|    Engine Fuel Type|Engine HP|Engine Cylinders|Transmission Type|    Driven_Wheels|Number of Doors|     Market Category|Vehicle Size|Vehicle Style|highway MPG|city mpg|Popularity| MSRP|\n",
            "+----+----------+----+--------------------+---------+----------------+-----------------+-----------------+---------------+--------------------+------------+-------------+-----------+--------+----------+-----+\n",
            "| BMW|1 Series M|2011|premium unleaded ...|      335|               6|           MANUAL| rear wheel drive|              2|Factory Tuner,Lux...|     Compact|        Coupe|         26|      19|      3916|46135|\n",
            "| BMW|  1 Series|2011|premium unleaded ...|      300|               6|           MANUAL| rear wheel drive|              2|  Luxury,Performance|     Compact|  Convertible|         28|      19|      3916|40650|\n",
            "| BMW|  1 Series|2011|premium unleaded ...|      300|               6|           MANUAL| rear wheel drive|              2|Luxury,High-Perfo...|     Compact|        Coupe|         28|      20|      3916|36350|\n",
            "| BMW|  1 Series|2011|premium unleaded ...|      230|               6|           MANUAL| rear wheel drive|              2|  Luxury,Performance|     Compact|        Coupe|         28|      18|      3916|29450|\n",
            "| BMW|  1 Series|2011|premium unleaded ...|      230|               6|           MANUAL| rear wheel drive|              2|              Luxury|     Compact|  Convertible|         28|      18|      3916|34500|\n",
            "| BMW|  1 Series|2012|premium unleaded ...|      230|               6|           MANUAL| rear wheel drive|              2|  Luxury,Performance|     Compact|        Coupe|         28|      18|      3916|31200|\n",
            "| BMW|  1 Series|2012|premium unleaded ...|      300|               6|           MANUAL| rear wheel drive|              2|  Luxury,Performance|     Compact|  Convertible|         26|      17|      3916|44100|\n",
            "| BMW|  1 Series|2012|premium unleaded ...|      300|               6|           MANUAL| rear wheel drive|              2|Luxury,High-Perfo...|     Compact|        Coupe|         28|      20|      3916|39300|\n",
            "| BMW|  1 Series|2012|premium unleaded ...|      230|               6|           MANUAL| rear wheel drive|              2|              Luxury|     Compact|  Convertible|         28|      18|      3916|36900|\n",
            "| BMW|  1 Series|2013|premium unleaded ...|      230|               6|           MANUAL| rear wheel drive|              2|              Luxury|     Compact|  Convertible|         27|      18|      3916|37200|\n",
            "| BMW|  1 Series|2013|premium unleaded ...|      300|               6|           MANUAL| rear wheel drive|              2|Luxury,High-Perfo...|     Compact|        Coupe|         28|      20|      3916|39600|\n",
            "| BMW|  1 Series|2013|premium unleaded ...|      230|               6|           MANUAL| rear wheel drive|              2|  Luxury,Performance|     Compact|        Coupe|         28|      19|      3916|31500|\n",
            "| BMW|  1 Series|2013|premium unleaded ...|      300|               6|           MANUAL| rear wheel drive|              2|  Luxury,Performance|     Compact|  Convertible|         28|      19|      3916|44400|\n",
            "| BMW|  1 Series|2013|premium unleaded ...|      230|               6|           MANUAL| rear wheel drive|              2|              Luxury|     Compact|  Convertible|         28|      19|      3916|37200|\n",
            "| BMW|  1 Series|2013|premium unleaded ...|      230|               6|           MANUAL| rear wheel drive|              2|  Luxury,Performance|     Compact|        Coupe|         28|      19|      3916|31500|\n",
            "| BMW|  1 Series|2013|premium unleaded ...|      320|               6|           MANUAL| rear wheel drive|              2|Luxury,High-Perfo...|     Compact|  Convertible|         25|      18|      3916|48250|\n",
            "| BMW|  1 Series|2013|premium unleaded ...|      320|               6|           MANUAL| rear wheel drive|              2|Luxury,High-Perfo...|     Compact|        Coupe|         28|      20|      3916|43550|\n",
            "|Audi|       100|1992|    regular unleaded|      172|               6|           MANUAL|front wheel drive|              4|              Luxury|     Midsize|        Sedan|         24|      17|      3105| 2000|\n",
            "|Audi|       100|1992|    regular unleaded|      172|               6|           MANUAL|front wheel drive|              4|              Luxury|     Midsize|        Sedan|         24|      17|      3105| 2000|\n",
            "|Audi|       100|1992|    regular unleaded|      172|               6|        AUTOMATIC|  all wheel drive|              4|              Luxury|     Midsize|        Wagon|         20|      16|      3105| 2000|\n",
            "+----+----------+----+--------------------+---------+----------------+-----------------+-----------------+---------------+--------------------+------------+-------------+-----------+--------+----------+-----+\n",
            "only showing top 20 rows\n",
            "\n"
          ]
        },
        {
          "output_type": "execute_result",
          "data": {
            "text/plain": [
              "  Make       Model  Year             Engine Fuel Type  Engine HP  \\\n",
              "0  BMW  1 Series M  2011  premium unleaded (required)        335   \n",
              "1  BMW    1 Series  2011  premium unleaded (required)        300   \n",
              "2  BMW    1 Series  2011  premium unleaded (required)        300   \n",
              "3  BMW    1 Series  2011  premium unleaded (required)        230   \n",
              "4  BMW    1 Series  2011  premium unleaded (required)        230   \n",
              "5  BMW    1 Series  2012  premium unleaded (required)        230   \n",
              "6  BMW    1 Series  2012  premium unleaded (required)        300   \n",
              "7  BMW    1 Series  2012  premium unleaded (required)        300   \n",
              "8  BMW    1 Series  2012  premium unleaded (required)        230   \n",
              "9  BMW    1 Series  2013  premium unleaded (required)        230   \n",
              "\n",
              "   Engine Cylinders Transmission Type     Driven_Wheels  Number of Doors  \\\n",
              "0                 6            MANUAL  rear wheel drive                2   \n",
              "1                 6            MANUAL  rear wheel drive                2   \n",
              "2                 6            MANUAL  rear wheel drive                2   \n",
              "3                 6            MANUAL  rear wheel drive                2   \n",
              "4                 6            MANUAL  rear wheel drive                2   \n",
              "5                 6            MANUAL  rear wheel drive                2   \n",
              "6                 6            MANUAL  rear wheel drive                2   \n",
              "7                 6            MANUAL  rear wheel drive                2   \n",
              "8                 6            MANUAL  rear wheel drive                2   \n",
              "9                 6            MANUAL  rear wheel drive                2   \n",
              "\n",
              "                         Market Category Vehicle Size Vehicle Style  \\\n",
              "0  Factory Tuner,Luxury,High-Performance      Compact         Coupe   \n",
              "1                     Luxury,Performance      Compact   Convertible   \n",
              "2                Luxury,High-Performance      Compact         Coupe   \n",
              "3                     Luxury,Performance      Compact         Coupe   \n",
              "4                                 Luxury      Compact   Convertible   \n",
              "5                     Luxury,Performance      Compact         Coupe   \n",
              "6                     Luxury,Performance      Compact   Convertible   \n",
              "7                Luxury,High-Performance      Compact         Coupe   \n",
              "8                                 Luxury      Compact   Convertible   \n",
              "9                                 Luxury      Compact   Convertible   \n",
              "\n",
              "   highway MPG  city mpg  Popularity   MSRP  \n",
              "0           26        19        3916  46135  \n",
              "1           28        19        3916  40650  \n",
              "2           28        20        3916  36350  \n",
              "3           28        18        3916  29450  \n",
              "4           28        18        3916  34500  \n",
              "5           28        18        3916  31200  \n",
              "6           26        17        3916  44100  \n",
              "7           28        20        3916  39300  \n",
              "8           28        18        3916  36900  \n",
              "9           27        18        3916  37200  "
            ],
            "text/html": [
              "\n",
              "  <div id=\"df-96631dc7-0ae3-44c6-94dd-bff7fc6209cf\" class=\"colab-df-container\">\n",
              "    <div>\n",
              "<style scoped>\n",
              "    .dataframe tbody tr th:only-of-type {\n",
              "        vertical-align: middle;\n",
              "    }\n",
              "\n",
              "    .dataframe tbody tr th {\n",
              "        vertical-align: top;\n",
              "    }\n",
              "\n",
              "    .dataframe thead th {\n",
              "        text-align: right;\n",
              "    }\n",
              "</style>\n",
              "<table border=\"1\" class=\"dataframe\">\n",
              "  <thead>\n",
              "    <tr style=\"text-align: right;\">\n",
              "      <th></th>\n",
              "      <th>Make</th>\n",
              "      <th>Model</th>\n",
              "      <th>Year</th>\n",
              "      <th>Engine Fuel Type</th>\n",
              "      <th>Engine HP</th>\n",
              "      <th>Engine Cylinders</th>\n",
              "      <th>Transmission Type</th>\n",
              "      <th>Driven_Wheels</th>\n",
              "      <th>Number of Doors</th>\n",
              "      <th>Market Category</th>\n",
              "      <th>Vehicle Size</th>\n",
              "      <th>Vehicle Style</th>\n",
              "      <th>highway MPG</th>\n",
              "      <th>city mpg</th>\n",
              "      <th>Popularity</th>\n",
              "      <th>MSRP</th>\n",
              "    </tr>\n",
              "  </thead>\n",
              "  <tbody>\n",
              "    <tr>\n",
              "      <th>0</th>\n",
              "      <td>BMW</td>\n",
              "      <td>1 Series M</td>\n",
              "      <td>2011</td>\n",
              "      <td>premium unleaded (required)</td>\n",
              "      <td>335</td>\n",
              "      <td>6</td>\n",
              "      <td>MANUAL</td>\n",
              "      <td>rear wheel drive</td>\n",
              "      <td>2</td>\n",
              "      <td>Factory Tuner,Luxury,High-Performance</td>\n",
              "      <td>Compact</td>\n",
              "      <td>Coupe</td>\n",
              "      <td>26</td>\n",
              "      <td>19</td>\n",
              "      <td>3916</td>\n",
              "      <td>46135</td>\n",
              "    </tr>\n",
              "    <tr>\n",
              "      <th>1</th>\n",
              "      <td>BMW</td>\n",
              "      <td>1 Series</td>\n",
              "      <td>2011</td>\n",
              "      <td>premium unleaded (required)</td>\n",
              "      <td>300</td>\n",
              "      <td>6</td>\n",
              "      <td>MANUAL</td>\n",
              "      <td>rear wheel drive</td>\n",
              "      <td>2</td>\n",
              "      <td>Luxury,Performance</td>\n",
              "      <td>Compact</td>\n",
              "      <td>Convertible</td>\n",
              "      <td>28</td>\n",
              "      <td>19</td>\n",
              "      <td>3916</td>\n",
              "      <td>40650</td>\n",
              "    </tr>\n",
              "    <tr>\n",
              "      <th>2</th>\n",
              "      <td>BMW</td>\n",
              "      <td>1 Series</td>\n",
              "      <td>2011</td>\n",
              "      <td>premium unleaded (required)</td>\n",
              "      <td>300</td>\n",
              "      <td>6</td>\n",
              "      <td>MANUAL</td>\n",
              "      <td>rear wheel drive</td>\n",
              "      <td>2</td>\n",
              "      <td>Luxury,High-Performance</td>\n",
              "      <td>Compact</td>\n",
              "      <td>Coupe</td>\n",
              "      <td>28</td>\n",
              "      <td>20</td>\n",
              "      <td>3916</td>\n",
              "      <td>36350</td>\n",
              "    </tr>\n",
              "    <tr>\n",
              "      <th>3</th>\n",
              "      <td>BMW</td>\n",
              "      <td>1 Series</td>\n",
              "      <td>2011</td>\n",
              "      <td>premium unleaded (required)</td>\n",
              "      <td>230</td>\n",
              "      <td>6</td>\n",
              "      <td>MANUAL</td>\n",
              "      <td>rear wheel drive</td>\n",
              "      <td>2</td>\n",
              "      <td>Luxury,Performance</td>\n",
              "      <td>Compact</td>\n",
              "      <td>Coupe</td>\n",
              "      <td>28</td>\n",
              "      <td>18</td>\n",
              "      <td>3916</td>\n",
              "      <td>29450</td>\n",
              "    </tr>\n",
              "    <tr>\n",
              "      <th>4</th>\n",
              "      <td>BMW</td>\n",
              "      <td>1 Series</td>\n",
              "      <td>2011</td>\n",
              "      <td>premium unleaded (required)</td>\n",
              "      <td>230</td>\n",
              "      <td>6</td>\n",
              "      <td>MANUAL</td>\n",
              "      <td>rear wheel drive</td>\n",
              "      <td>2</td>\n",
              "      <td>Luxury</td>\n",
              "      <td>Compact</td>\n",
              "      <td>Convertible</td>\n",
              "      <td>28</td>\n",
              "      <td>18</td>\n",
              "      <td>3916</td>\n",
              "      <td>34500</td>\n",
              "    </tr>\n",
              "    <tr>\n",
              "      <th>5</th>\n",
              "      <td>BMW</td>\n",
              "      <td>1 Series</td>\n",
              "      <td>2012</td>\n",
              "      <td>premium unleaded (required)</td>\n",
              "      <td>230</td>\n",
              "      <td>6</td>\n",
              "      <td>MANUAL</td>\n",
              "      <td>rear wheel drive</td>\n",
              "      <td>2</td>\n",
              "      <td>Luxury,Performance</td>\n",
              "      <td>Compact</td>\n",
              "      <td>Coupe</td>\n",
              "      <td>28</td>\n",
              "      <td>18</td>\n",
              "      <td>3916</td>\n",
              "      <td>31200</td>\n",
              "    </tr>\n",
              "    <tr>\n",
              "      <th>6</th>\n",
              "      <td>BMW</td>\n",
              "      <td>1 Series</td>\n",
              "      <td>2012</td>\n",
              "      <td>premium unleaded (required)</td>\n",
              "      <td>300</td>\n",
              "      <td>6</td>\n",
              "      <td>MANUAL</td>\n",
              "      <td>rear wheel drive</td>\n",
              "      <td>2</td>\n",
              "      <td>Luxury,Performance</td>\n",
              "      <td>Compact</td>\n",
              "      <td>Convertible</td>\n",
              "      <td>26</td>\n",
              "      <td>17</td>\n",
              "      <td>3916</td>\n",
              "      <td>44100</td>\n",
              "    </tr>\n",
              "    <tr>\n",
              "      <th>7</th>\n",
              "      <td>BMW</td>\n",
              "      <td>1 Series</td>\n",
              "      <td>2012</td>\n",
              "      <td>premium unleaded (required)</td>\n",
              "      <td>300</td>\n",
              "      <td>6</td>\n",
              "      <td>MANUAL</td>\n",
              "      <td>rear wheel drive</td>\n",
              "      <td>2</td>\n",
              "      <td>Luxury,High-Performance</td>\n",
              "      <td>Compact</td>\n",
              "      <td>Coupe</td>\n",
              "      <td>28</td>\n",
              "      <td>20</td>\n",
              "      <td>3916</td>\n",
              "      <td>39300</td>\n",
              "    </tr>\n",
              "    <tr>\n",
              "      <th>8</th>\n",
              "      <td>BMW</td>\n",
              "      <td>1 Series</td>\n",
              "      <td>2012</td>\n",
              "      <td>premium unleaded (required)</td>\n",
              "      <td>230</td>\n",
              "      <td>6</td>\n",
              "      <td>MANUAL</td>\n",
              "      <td>rear wheel drive</td>\n",
              "      <td>2</td>\n",
              "      <td>Luxury</td>\n",
              "      <td>Compact</td>\n",
              "      <td>Convertible</td>\n",
              "      <td>28</td>\n",
              "      <td>18</td>\n",
              "      <td>3916</td>\n",
              "      <td>36900</td>\n",
              "    </tr>\n",
              "    <tr>\n",
              "      <th>9</th>\n",
              "      <td>BMW</td>\n",
              "      <td>1 Series</td>\n",
              "      <td>2013</td>\n",
              "      <td>premium unleaded (required)</td>\n",
              "      <td>230</td>\n",
              "      <td>6</td>\n",
              "      <td>MANUAL</td>\n",
              "      <td>rear wheel drive</td>\n",
              "      <td>2</td>\n",
              "      <td>Luxury</td>\n",
              "      <td>Compact</td>\n",
              "      <td>Convertible</td>\n",
              "      <td>27</td>\n",
              "      <td>18</td>\n",
              "      <td>3916</td>\n",
              "      <td>37200</td>\n",
              "    </tr>\n",
              "  </tbody>\n",
              "</table>\n",
              "</div>\n",
              "    <div class=\"colab-df-buttons\">\n",
              "\n",
              "  <div class=\"colab-df-container\">\n",
              "    <button class=\"colab-df-convert\" onclick=\"convertToInteractive('df-96631dc7-0ae3-44c6-94dd-bff7fc6209cf')\"\n",
              "            title=\"Convert this dataframe to an interactive table.\"\n",
              "            style=\"display:none;\">\n",
              "\n",
              "  <svg xmlns=\"http://www.w3.org/2000/svg\" height=\"24px\" viewBox=\"0 -960 960 960\">\n",
              "    <path d=\"M120-120v-720h720v720H120Zm60-500h600v-160H180v160Zm220 220h160v-160H400v160Zm0 220h160v-160H400v160ZM180-400h160v-160H180v160Zm440 0h160v-160H620v160ZM180-180h160v-160H180v160Zm440 0h160v-160H620v160Z\"/>\n",
              "  </svg>\n",
              "    </button>\n",
              "\n",
              "  <style>\n",
              "    .colab-df-container {\n",
              "      display:flex;\n",
              "      gap: 12px;\n",
              "    }\n",
              "\n",
              "    .colab-df-convert {\n",
              "      background-color: #E8F0FE;\n",
              "      border: none;\n",
              "      border-radius: 50%;\n",
              "      cursor: pointer;\n",
              "      display: none;\n",
              "      fill: #1967D2;\n",
              "      height: 32px;\n",
              "      padding: 0 0 0 0;\n",
              "      width: 32px;\n",
              "    }\n",
              "\n",
              "    .colab-df-convert:hover {\n",
              "      background-color: #E2EBFA;\n",
              "      box-shadow: 0px 1px 2px rgba(60, 64, 67, 0.3), 0px 1px 3px 1px rgba(60, 64, 67, 0.15);\n",
              "      fill: #174EA6;\n",
              "    }\n",
              "\n",
              "    .colab-df-buttons div {\n",
              "      margin-bottom: 4px;\n",
              "    }\n",
              "\n",
              "    [theme=dark] .colab-df-convert {\n",
              "      background-color: #3B4455;\n",
              "      fill: #D2E3FC;\n",
              "    }\n",
              "\n",
              "    [theme=dark] .colab-df-convert:hover {\n",
              "      background-color: #434B5C;\n",
              "      box-shadow: 0px 1px 3px 1px rgba(0, 0, 0, 0.15);\n",
              "      filter: drop-shadow(0px 1px 2px rgba(0, 0, 0, 0.3));\n",
              "      fill: #FFFFFF;\n",
              "    }\n",
              "  </style>\n",
              "\n",
              "    <script>\n",
              "      const buttonEl =\n",
              "        document.querySelector('#df-96631dc7-0ae3-44c6-94dd-bff7fc6209cf button.colab-df-convert');\n",
              "      buttonEl.style.display =\n",
              "        google.colab.kernel.accessAllowed ? 'block' : 'none';\n",
              "\n",
              "      async function convertToInteractive(key) {\n",
              "        const element = document.querySelector('#df-96631dc7-0ae3-44c6-94dd-bff7fc6209cf');\n",
              "        const dataTable =\n",
              "          await google.colab.kernel.invokeFunction('convertToInteractive',\n",
              "                                                    [key], {});\n",
              "        if (!dataTable) return;\n",
              "\n",
              "        const docLinkHtml = 'Like what you see? Visit the ' +\n",
              "          '<a target=\"_blank\" href=https://colab.research.google.com/notebooks/data_table.ipynb>data table notebook</a>'\n",
              "          + ' to learn more about interactive tables.';\n",
              "        element.innerHTML = '';\n",
              "        dataTable['output_type'] = 'display_data';\n",
              "        await google.colab.output.renderOutput(dataTable, element);\n",
              "        const docLink = document.createElement('div');\n",
              "        docLink.innerHTML = docLinkHtml;\n",
              "        element.appendChild(docLink);\n",
              "      }\n",
              "    </script>\n",
              "  </div>\n",
              "\n",
              "\n",
              "    <div id=\"df-dec00738-3660-472c-9425-87cdbee40b28\">\n",
              "      <button class=\"colab-df-quickchart\" onclick=\"quickchart('df-dec00738-3660-472c-9425-87cdbee40b28')\"\n",
              "                title=\"Suggest charts\"\n",
              "                style=\"display:none;\">\n",
              "\n",
              "<svg xmlns=\"http://www.w3.org/2000/svg\" height=\"24px\"viewBox=\"0 0 24 24\"\n",
              "     width=\"24px\">\n",
              "    <g>\n",
              "        <path d=\"M19 3H5c-1.1 0-2 .9-2 2v14c0 1.1.9 2 2 2h14c1.1 0 2-.9 2-2V5c0-1.1-.9-2-2-2zM9 17H7v-7h2v7zm4 0h-2V7h2v10zm4 0h-2v-4h2v4z\"/>\n",
              "    </g>\n",
              "</svg>\n",
              "      </button>\n",
              "\n",
              "<style>\n",
              "  .colab-df-quickchart {\n",
              "      --bg-color: #E8F0FE;\n",
              "      --fill-color: #1967D2;\n",
              "      --hover-bg-color: #E2EBFA;\n",
              "      --hover-fill-color: #174EA6;\n",
              "      --disabled-fill-color: #AAA;\n",
              "      --disabled-bg-color: #DDD;\n",
              "  }\n",
              "\n",
              "  [theme=dark] .colab-df-quickchart {\n",
              "      --bg-color: #3B4455;\n",
              "      --fill-color: #D2E3FC;\n",
              "      --hover-bg-color: #434B5C;\n",
              "      --hover-fill-color: #FFFFFF;\n",
              "      --disabled-bg-color: #3B4455;\n",
              "      --disabled-fill-color: #666;\n",
              "  }\n",
              "\n",
              "  .colab-df-quickchart {\n",
              "    background-color: var(--bg-color);\n",
              "    border: none;\n",
              "    border-radius: 50%;\n",
              "    cursor: pointer;\n",
              "    display: none;\n",
              "    fill: var(--fill-color);\n",
              "    height: 32px;\n",
              "    padding: 0;\n",
              "    width: 32px;\n",
              "  }\n",
              "\n",
              "  .colab-df-quickchart:hover {\n",
              "    background-color: var(--hover-bg-color);\n",
              "    box-shadow: 0 1px 2px rgba(60, 64, 67, 0.3), 0 1px 3px 1px rgba(60, 64, 67, 0.15);\n",
              "    fill: var(--button-hover-fill-color);\n",
              "  }\n",
              "\n",
              "  .colab-df-quickchart-complete:disabled,\n",
              "  .colab-df-quickchart-complete:disabled:hover {\n",
              "    background-color: var(--disabled-bg-color);\n",
              "    fill: var(--disabled-fill-color);\n",
              "    box-shadow: none;\n",
              "  }\n",
              "\n",
              "  .colab-df-spinner {\n",
              "    border: 2px solid var(--fill-color);\n",
              "    border-color: transparent;\n",
              "    border-bottom-color: var(--fill-color);\n",
              "    animation:\n",
              "      spin 1s steps(1) infinite;\n",
              "  }\n",
              "\n",
              "  @keyframes spin {\n",
              "    0% {\n",
              "      border-color: transparent;\n",
              "      border-bottom-color: var(--fill-color);\n",
              "      border-left-color: var(--fill-color);\n",
              "    }\n",
              "    20% {\n",
              "      border-color: transparent;\n",
              "      border-left-color: var(--fill-color);\n",
              "      border-top-color: var(--fill-color);\n",
              "    }\n",
              "    30% {\n",
              "      border-color: transparent;\n",
              "      border-left-color: var(--fill-color);\n",
              "      border-top-color: var(--fill-color);\n",
              "      border-right-color: var(--fill-color);\n",
              "    }\n",
              "    40% {\n",
              "      border-color: transparent;\n",
              "      border-right-color: var(--fill-color);\n",
              "      border-top-color: var(--fill-color);\n",
              "    }\n",
              "    60% {\n",
              "      border-color: transparent;\n",
              "      border-right-color: var(--fill-color);\n",
              "    }\n",
              "    80% {\n",
              "      border-color: transparent;\n",
              "      border-right-color: var(--fill-color);\n",
              "      border-bottom-color: var(--fill-color);\n",
              "    }\n",
              "    90% {\n",
              "      border-color: transparent;\n",
              "      border-bottom-color: var(--fill-color);\n",
              "    }\n",
              "  }\n",
              "</style>\n",
              "\n",
              "      <script>\n",
              "        async function quickchart(key) {\n",
              "          const quickchartButtonEl =\n",
              "            document.querySelector('#' + key + ' button');\n",
              "          quickchartButtonEl.disabled = true;  // To prevent multiple clicks.\n",
              "          quickchartButtonEl.classList.add('colab-df-spinner');\n",
              "          try {\n",
              "            const charts = await google.colab.kernel.invokeFunction(\n",
              "                'suggestCharts', [key], {});\n",
              "          } catch (error) {\n",
              "            console.error('Error during call to suggestCharts:', error);\n",
              "          }\n",
              "          quickchartButtonEl.classList.remove('colab-df-spinner');\n",
              "          quickchartButtonEl.classList.add('colab-df-quickchart-complete');\n",
              "        }\n",
              "        (() => {\n",
              "          let quickchartButtonEl =\n",
              "            document.querySelector('#df-dec00738-3660-472c-9425-87cdbee40b28 button');\n",
              "          quickchartButtonEl.style.display =\n",
              "            google.colab.kernel.accessAllowed ? 'block' : 'none';\n",
              "        })();\n",
              "      </script>\n",
              "    </div>\n",
              "\n",
              "    </div>\n",
              "  </div>\n"
            ],
            "application/vnd.google.colaboratory.intrinsic+json": {
              "type": "dataframe",
              "summary": "{\n  \"name\": \"car_df\",\n  \"rows\": 10,\n  \"fields\": [\n    {\n      \"column\": \"Make\",\n      \"properties\": {\n        \"dtype\": \"category\",\n        \"num_unique_values\": 1,\n        \"samples\": [\n          \"BMW\"\n        ],\n        \"semantic_type\": \"\",\n        \"description\": \"\"\n      }\n    },\n    {\n      \"column\": \"Model\",\n      \"properties\": {\n        \"dtype\": \"category\",\n        \"num_unique_values\": 2,\n        \"samples\": [\n          \"1 Series\"\n        ],\n        \"semantic_type\": \"\",\n        \"description\": \"\"\n      }\n    },\n    {\n      \"column\": \"Year\",\n      \"properties\": {\n        \"dtype\": \"int32\",\n        \"num_unique_values\": 3,\n        \"samples\": [\n          2011\n        ],\n        \"semantic_type\": \"\",\n        \"description\": \"\"\n      }\n    },\n    {\n      \"column\": \"Engine Fuel Type\",\n      \"properties\": {\n        \"dtype\": \"category\",\n        \"num_unique_values\": 1,\n        \"samples\": [\n          \"premium unleaded (required)\"\n        ],\n        \"semantic_type\": \"\",\n        \"description\": \"\"\n      }\n    },\n    {\n      \"column\": \"Engine HP\",\n      \"properties\": {\n        \"dtype\": \"int32\",\n        \"num_unique_values\": 3,\n        \"samples\": [\n          335\n        ],\n        \"semantic_type\": \"\",\n        \"description\": \"\"\n      }\n    },\n    {\n      \"column\": \"Engine Cylinders\",\n      \"properties\": {\n        \"dtype\": \"int32\",\n        \"num_unique_values\": 1,\n        \"samples\": [\n          6\n        ],\n        \"semantic_type\": \"\",\n        \"description\": \"\"\n      }\n    },\n    {\n      \"column\": \"Transmission Type\",\n      \"properties\": {\n        \"dtype\": \"category\",\n        \"num_unique_values\": 1,\n        \"samples\": [\n          \"MANUAL\"\n        ],\n        \"semantic_type\": \"\",\n        \"description\": \"\"\n      }\n    },\n    {\n      \"column\": \"Driven_Wheels\",\n      \"properties\": {\n        \"dtype\": \"category\",\n        \"num_unique_values\": 1,\n        \"samples\": [\n          \"rear wheel drive\"\n        ],\n        \"semantic_type\": \"\",\n        \"description\": \"\"\n      }\n    },\n    {\n      \"column\": \"Number of Doors\",\n      \"properties\": {\n        \"dtype\": \"int32\",\n        \"num_unique_values\": 1,\n        \"samples\": [\n          2\n        ],\n        \"semantic_type\": \"\",\n        \"description\": \"\"\n      }\n    },\n    {\n      \"column\": \"Market Category\",\n      \"properties\": {\n        \"dtype\": \"category\",\n        \"num_unique_values\": 4,\n        \"samples\": [\n          \"Luxury,Performance\"\n        ],\n        \"semantic_type\": \"\",\n        \"description\": \"\"\n      }\n    },\n    {\n      \"column\": \"Vehicle Size\",\n      \"properties\": {\n        \"dtype\": \"category\",\n        \"num_unique_values\": 1,\n        \"samples\": [\n          \"Compact\"\n        ],\n        \"semantic_type\": \"\",\n        \"description\": \"\"\n      }\n    },\n    {\n      \"column\": \"Vehicle Style\",\n      \"properties\": {\n        \"dtype\": \"category\",\n        \"num_unique_values\": 2,\n        \"samples\": [\n          \"Convertible\"\n        ],\n        \"semantic_type\": \"\",\n        \"description\": \"\"\n      }\n    },\n    {\n      \"column\": \"highway MPG\",\n      \"properties\": {\n        \"dtype\": \"int32\",\n        \"num_unique_values\": 3,\n        \"samples\": [\n          26\n        ],\n        \"semantic_type\": \"\",\n        \"description\": \"\"\n      }\n    },\n    {\n      \"column\": \"city mpg\",\n      \"properties\": {\n        \"dtype\": \"int32\",\n        \"num_unique_values\": 4,\n        \"samples\": [\n          20\n        ],\n        \"semantic_type\": \"\",\n        \"description\": \"\"\n      }\n    },\n    {\n      \"column\": \"Popularity\",\n      \"properties\": {\n        \"dtype\": \"int32\",\n        \"num_unique_values\": 1,\n        \"samples\": [\n          3916\n        ],\n        \"semantic_type\": \"\",\n        \"description\": \"\"\n      }\n    },\n    {\n      \"column\": \"MSRP\",\n      \"properties\": {\n        \"dtype\": \"int32\",\n        \"num_unique_values\": 10,\n        \"samples\": [\n          36900\n        ],\n        \"semantic_type\": \"\",\n        \"description\": \"\"\n      }\n    }\n  ]\n}"
            }
          },
          "metadata": {},
          "execution_count": 11
        }
      ]
    },
    {
      "cell_type": "code",
      "source": [
        "car_df.printSchema()"
      ],
      "metadata": {
        "colab": {
          "base_uri": "https://localhost:8080/"
        },
        "id": "ZsH-AkCu8eVK",
        "outputId": "34add24f-f703-4863-89c5-e2c9cde671e1"
      },
      "execution_count": 12,
      "outputs": [
        {
          "output_type": "stream",
          "name": "stdout",
          "text": [
            "root\n",
            " |-- Make: string (nullable = true)\n",
            " |-- Model: string (nullable = true)\n",
            " |-- Year: integer (nullable = true)\n",
            " |-- Engine Fuel Type: string (nullable = true)\n",
            " |-- Engine HP: integer (nullable = true)\n",
            " |-- Engine Cylinders: integer (nullable = true)\n",
            " |-- Transmission Type: string (nullable = true)\n",
            " |-- Driven_Wheels: string (nullable = true)\n",
            " |-- Number of Doors: integer (nullable = true)\n",
            " |-- Market Category: string (nullable = true)\n",
            " |-- Vehicle Size: string (nullable = true)\n",
            " |-- Vehicle Style: string (nullable = true)\n",
            " |-- highway MPG: integer (nullable = true)\n",
            " |-- city mpg: integer (nullable = true)\n",
            " |-- Popularity: integer (nullable = true)\n",
            " |-- MSRP: integer (nullable = true)\n",
            "\n"
          ]
        }
      ]
    },
    {
      "cell_type": "code",
      "source": [
        "car_df.count()"
      ],
      "metadata": {
        "colab": {
          "base_uri": "https://localhost:8080/"
        },
        "id": "GpFH5Uz89flz",
        "outputId": "3a0762b7-e241-44c4-aa83-fb9028e6517d"
      },
      "execution_count": 13,
      "outputs": [
        {
          "output_type": "execute_result",
          "data": {
            "text/plain": [
              "11914"
            ]
          },
          "metadata": {},
          "execution_count": 13
        }
      ]
    },
    {
      "cell_type": "code",
      "source": [
        "car_df.columns"
      ],
      "metadata": {
        "colab": {
          "base_uri": "https://localhost:8080/"
        },
        "id": "xBFPLCOt9tFA",
        "outputId": "049b8300-4f14-4c65-94bf-1db76e5e3a0b"
      },
      "execution_count": 15,
      "outputs": [
        {
          "output_type": "execute_result",
          "data": {
            "text/plain": [
              "['Make',\n",
              " 'Model',\n",
              " 'Year',\n",
              " 'Engine Fuel Type',\n",
              " 'Engine HP',\n",
              " 'Engine Cylinders',\n",
              " 'Transmission Type',\n",
              " 'Driven_Wheels',\n",
              " 'Number of Doors',\n",
              " 'Market Category',\n",
              " 'Vehicle Size',\n",
              " 'Vehicle Style',\n",
              " 'highway MPG',\n",
              " 'city mpg',\n",
              " 'Popularity',\n",
              " 'MSRP']"
            ]
          },
          "metadata": {},
          "execution_count": 15
        }
      ]
    },
    {
      "cell_type": "code",
      "source": [
        "car_df.groupBy(\"Make\").count().orderBy(\"count\", ascending=False).show(10)\n"
      ],
      "metadata": {
        "colab": {
          "base_uri": "https://localhost:8080/"
        },
        "id": "bEXBk8Op-PDq",
        "outputId": "a3433f2d-5875-43d1-fb9d-0b21fb076125"
      },
      "execution_count": 16,
      "outputs": [
        {
          "output_type": "stream",
          "name": "stdout",
          "text": [
            "+----------+-----+\n",
            "|      Make|count|\n",
            "+----------+-----+\n",
            "| Chevrolet| 1123|\n",
            "|      Ford|  881|\n",
            "|Volkswagen|  809|\n",
            "|    Toyota|  746|\n",
            "|     Dodge|  626|\n",
            "|    Nissan|  558|\n",
            "|       GMC|  515|\n",
            "|     Honda|  449|\n",
            "|     Mazda|  423|\n",
            "|  Cadillac|  397|\n",
            "+----------+-----+\n",
            "only showing top 10 rows\n",
            "\n"
          ]
        }
      ]
    },
    {
      "cell_type": "code",
      "source": [
        "car_df.groupBy(\"Make\").count().orderBy(\"count\", ascending=False).show(10)"
      ],
      "metadata": {
        "colab": {
          "base_uri": "https://localhost:8080/"
        },
        "id": "-MhAYI1X-czW",
        "outputId": "6357c81d-88a5-473f-9819-14c64b910cf4"
      },
      "execution_count": 19,
      "outputs": [
        {
          "output_type": "stream",
          "name": "stdout",
          "text": [
            "+----------+-----+\n",
            "|      Make|count|\n",
            "+----------+-----+\n",
            "| Chevrolet| 1123|\n",
            "|      Ford|  881|\n",
            "|Volkswagen|  809|\n",
            "|    Toyota|  746|\n",
            "|     Dodge|  626|\n",
            "|    Nissan|  558|\n",
            "|       GMC|  515|\n",
            "|     Honda|  449|\n",
            "|     Mazda|  423|\n",
            "|  Cadillac|  397|\n",
            "+----------+-----+\n",
            "only showing top 10 rows\n",
            "\n"
          ]
        }
      ]
    },
    {
      "cell_type": "code",
      "source": [
        "car_df.groupBy(\"Transmission Type\").count().orderBy(\"count\", ascending=False).show()\n"
      ],
      "metadata": {
        "colab": {
          "base_uri": "https://localhost:8080/"
        },
        "id": "r5PanGKD-n3b",
        "outputId": "665a961b-bacd-4c6d-be8f-335f12f2b6e7"
      },
      "execution_count": 20,
      "outputs": [
        {
          "output_type": "stream",
          "name": "stdout",
          "text": [
            "+-----------------+-----+\n",
            "|Transmission Type|count|\n",
            "+-----------------+-----+\n",
            "|        AUTOMATIC| 8266|\n",
            "|           MANUAL| 2935|\n",
            "| AUTOMATED_MANUAL|  626|\n",
            "|     DIRECT_DRIVE|   68|\n",
            "|          UNKNOWN|   19|\n",
            "+-----------------+-----+\n",
            "\n"
          ]
        }
      ]
    },
    {
      "cell_type": "code",
      "source": [
        "car_df.select(\"Engine HP\", \"Engine Cylinders\", \"highway MPG\", \"city mpg\", \"MSRP\").describe().show()\n"
      ],
      "metadata": {
        "colab": {
          "base_uri": "https://localhost:8080/"
        },
        "id": "VL_1nSyg-8IT",
        "outputId": "a57b0236-533f-4579-a695-133b5e4a00e4"
      },
      "execution_count": 21,
      "outputs": [
        {
          "output_type": "stream",
          "name": "stdout",
          "text": [
            "+-------+------------------+-----------------+------------------+-----------------+------------------+\n",
            "|summary|         Engine HP| Engine Cylinders|       highway MPG|         city mpg|              MSRP|\n",
            "+-------+------------------+-----------------+------------------+-----------------+------------------+\n",
            "|  count|             11845|            11884|             11914|            11914|             11914|\n",
            "|   mean|249.38607007176023|5.628828677213059|26.637485311398354|19.73325499412456|40594.737032063116|\n",
            "| stddev|109.19187025917194| 1.78055934824622| 8.863000766979422|8.987798160299237| 60109.10360365422|\n",
            "|    min|                55|                0|                12|                7|              2000|\n",
            "|    max|              1001|               16|               354|              137|           2065902|\n",
            "+-------+------------------+-----------------+------------------+-----------------+------------------+\n",
            "\n"
          ]
        }
      ]
    },
    {
      "cell_type": "code",
      "source": [
        "car_df.corr(\"Engine HP\", \"MSRP\")\n"
      ],
      "metadata": {
        "colab": {
          "base_uri": "https://localhost:8080/"
        },
        "id": "8WGqpnO5-_8c",
        "outputId": "1542c488-15cc-483d-e741-3467bb4dc447"
      },
      "execution_count": 22,
      "outputs": [
        {
          "output_type": "execute_result",
          "data": {
            "text/plain": [
              "0.6500953442373126"
            ]
          },
          "metadata": {},
          "execution_count": 22
        }
      ]
    },
    {
      "cell_type": "code",
      "source": [
        "car_df.columns\n"
      ],
      "metadata": {
        "colab": {
          "base_uri": "https://localhost:8080/"
        },
        "id": "huzKwI51_DLV",
        "outputId": "a1d30cc7-df04-44f7-e1d4-4a3207273937"
      },
      "execution_count": 23,
      "outputs": [
        {
          "output_type": "execute_result",
          "data": {
            "text/plain": [
              "['Make',\n",
              " 'Model',\n",
              " 'Year',\n",
              " 'Engine Fuel Type',\n",
              " 'Engine HP',\n",
              " 'Engine Cylinders',\n",
              " 'Transmission Type',\n",
              " 'Driven_Wheels',\n",
              " 'Number of Doors',\n",
              " 'Market Category',\n",
              " 'Vehicle Size',\n",
              " 'Vehicle Style',\n",
              " 'highway MPG',\n",
              " 'city mpg',\n",
              " 'Popularity',\n",
              " 'MSRP']"
            ]
          },
          "metadata": {},
          "execution_count": 23
        }
      ]
    },
    {
      "cell_type": "code",
      "source": [
        "car_df.groupBy(\"Make\").count().orderBy(\"count\", ascending=False).show()"
      ],
      "metadata": {
        "colab": {
          "base_uri": "https://localhost:8080/"
        },
        "id": "FR6CRQOk_eFA",
        "outputId": "0a8086b2-d460-4d05-fdb7-d13ee7798c54"
      },
      "execution_count": 25,
      "outputs": [
        {
          "output_type": "stream",
          "name": "stdout",
          "text": [
            "+-------------+-----+\n",
            "|         Make|count|\n",
            "+-------------+-----+\n",
            "|    Chevrolet| 1123|\n",
            "|         Ford|  881|\n",
            "|   Volkswagen|  809|\n",
            "|       Toyota|  746|\n",
            "|        Dodge|  626|\n",
            "|       Nissan|  558|\n",
            "|          GMC|  515|\n",
            "|        Honda|  449|\n",
            "|        Mazda|  423|\n",
            "|     Cadillac|  397|\n",
            "|Mercedes-Benz|  353|\n",
            "|       Suzuki|  351|\n",
            "|          BMW|  334|\n",
            "|     Infiniti|  330|\n",
            "|         Audi|  328|\n",
            "|      Hyundai|  303|\n",
            "|        Volvo|  281|\n",
            "|       Subaru|  256|\n",
            "|        Acura|  252|\n",
            "|          Kia|  231|\n",
            "+-------------+-----+\n",
            "only showing top 20 rows\n",
            "\n"
          ]
        }
      ]
    },
    {
      "cell_type": "code",
      "source": [
        "car_df.select(\"Popularity\").describe().show()\n"
      ],
      "metadata": {
        "colab": {
          "base_uri": "https://localhost:8080/"
        },
        "id": "OrmAif0cACcd",
        "outputId": "537feca9-eba3-484a-92c1-eae77b58216e"
      },
      "execution_count": 26,
      "outputs": [
        {
          "output_type": "stream",
          "name": "stdout",
          "text": [
            "+-------+------------------+\n",
            "|summary|        Popularity|\n",
            "+-------+------------------+\n",
            "|  count|             11914|\n",
            "|   mean|1554.9111969111968|\n",
            "| stddev|1441.8553466274648|\n",
            "|    min|                 2|\n",
            "|    max|              5657|\n",
            "+-------+------------------+\n",
            "\n"
          ]
        }
      ]
    },
    {
      "cell_type": "code",
      "source": [
        "car_df.corr(\"Popularity\", \"MSRP\")\n"
      ],
      "metadata": {
        "colab": {
          "base_uri": "https://localhost:8080/"
        },
        "id": "nJ2j6kL1Ast_",
        "outputId": "e0efa2b1-5ca8-4a78-aede-ef3a96792e25"
      },
      "execution_count": 27,
      "outputs": [
        {
          "output_type": "execute_result",
          "data": {
            "text/plain": [
              "-0.0484762324550447"
            ]
          },
          "metadata": {},
          "execution_count": 27
        }
      ]
    },
    {
      "cell_type": "code",
      "source": [],
      "metadata": {
        "id": "TdiabG9MBHfr"
      },
      "execution_count": null,
      "outputs": []
    }
  ]
}